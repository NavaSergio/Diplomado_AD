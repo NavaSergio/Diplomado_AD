{
 "cells": [
  {
   "cell_type": "code",
   "execution_count": 1,
   "metadata": {},
   "outputs": [],
   "source": [
    "# Ejemplo de clases Python\n",
    "# Definición de la clase Coche\n",
    "class Coche:\n",
    "    \"\"\"\n",
    "    Clase que representa un coche.\n",
    "    Atributos:\n",
    "        marca (str): La marca del coche.\n",
    "        modelo (str): El modelo del coche.\n",
    "        color (str): El color del coche.\n",
    "        velocidad (float): La velocidad actual del coche (en km/h).\n",
    "    \"\"\"\n",
    "    # este es el contructor de la clase como en C++\n",
    "    def __init__(self, marca, modelo, color):\n",
    "        \"\"\"\n",
    "        Constructor de la clase Coche.\n",
    "        Parámetros:\n",
    "            marca (str): La marca del coche.\n",
    "            modelo (str): El modelo del coche.\n",
    "            color (str): El color del coche.\n",
    "        \"\"\"\n",
    "        self.marca = marca\n",
    "        self.modelo = modelo\n",
    "        self.color = color\n",
    "        self.velocidad = 0  # El coche comienza detenido\n",
    "\n",
    "    # aqui estan los metodos de la clase como si fueran los public en C++\n",
    "    def acelerar(self, incremento):\n",
    "        \"\"\"\n",
    "        Aumenta la velocidad del coche.\n",
    "        Parámetros:\n",
    "            incremento (float): Cantidad en km/h que se aumenta la velocidad.\n",
    "        \"\"\"\n",
    "        self.velocidad += incremento\n",
    "        print(f\"El coche {self.marca} {self.modelo} ha acelerado a {self.velocidad} km/h.\")\n",
    "\n",
    "    def frenar(self, decremento):\n",
    "        \"\"\"\n",
    "        Disminuye la velocidad del coche.\n",
    "        Parámetros:\n",
    "            decremento (float): Cantidad en km/h que se reduce la velocidad.\n",
    "        \"\"\"\n",
    "        if self.velocidad - decremento >= 0:\n",
    "            self.velocidad -= decremento\n",
    "            print(f\"El coche {self.marca} {self.modelo} ha reducido su velocidad a {self.velocidad} km/h.\")\n",
    "        else:\n",
    "            self.velocidad = 0\n",
    "            print(f\"El coche {self.marca} {self.modelo} se ha detenido.\")\n",
    "\n",
    "    def mostrar_informacion(self):\n",
    "        \"\"\"\n",
    "        Muestra la información del coche.\n",
    "        \"\"\"\n",
    "        print(f\"Coche: {self.marca} {self.modelo}\")\n",
    "        print(f\"Color: {self.color}\")\n",
    "        print(f\"Velocidad actual: {self.velocidad} km/h\")\n",
    "\n"
   ]
  },
  {
   "cell_type": "code",
   "execution_count": 2,
   "metadata": {},
   "outputs": [],
   "source": [
    "# Creación de objetos (instancias) de la clase Coche\n",
    "coche1 = Coche(\"Toyota\", \"Corolla\", \"Rojo\")\n",
    "coche2 = Coche(\"Ford\", \"Mustang\", \"Azul\")\n"
   ]
  },
  {
   "cell_type": "code",
   "execution_count": 3,
   "metadata": {},
   "outputs": [
    {
     "name": "stdout",
     "output_type": "stream",
     "text": [
      "Coche: Toyota Corolla\n",
      "Color: Rojo\n",
      "Velocidad actual: 0 km/h\n",
      "El coche Toyota Corolla ha acelerado a 50 km/h.\n",
      "El coche Toyota Corolla ha reducido su velocidad a 30 km/h.\n",
      "Coche: Toyota Corolla\n",
      "Color: Rojo\n",
      "Velocidad actual: 30 km/h\n",
      "\n",
      "\n"
     ]
    }
   ],
   "source": [
    "\n",
    "# Uso de los métodos de la clase\n",
    "coche1.mostrar_informacion()\n",
    "coche1.acelerar(50)\n",
    "coche1.frenar(20)\n",
    "coche1.mostrar_informacion()\n",
    "\n",
    "print(\"\\n\")\n"
   ]
  },
  {
   "cell_type": "code",
   "execution_count": 4,
   "metadata": {},
   "outputs": [
    {
     "name": "stdout",
     "output_type": "stream",
     "text": [
      "Coche: Ford Mustang\n",
      "Color: Azul\n",
      "Velocidad actual: 0 km/h\n",
      "El coche Ford Mustang ha acelerado a 100 km/h.\n",
      "El coche Ford Mustang ha reducido su velocidad a 70 km/h.\n",
      "Coche: Ford Mustang\n",
      "Color: Azul\n",
      "Velocidad actual: 70 km/h\n"
     ]
    }
   ],
   "source": [
    "\n",
    "coche2.mostrar_informacion()\n",
    "coche2.acelerar(100)\n",
    "coche2.frenar(30)\n",
    "coche2.mostrar_informacion()\n"
   ]
  }
 ],
 "metadata": {
  "kernelspec": {
   "display_name": "base",
   "language": "python",
   "name": "python3"
  },
  "language_info": {
   "codemirror_mode": {
    "name": "ipython",
    "version": 3
   },
   "file_extension": ".py",
   "mimetype": "text/x-python",
   "name": "python",
   "nbconvert_exporter": "python",
   "pygments_lexer": "ipython3",
   "version": "3.11.9"
  }
 },
 "nbformat": 4,
 "nbformat_minor": 2
}
