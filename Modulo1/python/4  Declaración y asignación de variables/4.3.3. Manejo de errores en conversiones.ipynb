{
  "cells": [
    {
      "cell_type": "markdown",
      "metadata": {
        "id": "view-in-github",
        "colab_type": "text"
      },
      "source": [
        "<a href=\"https://colab.research.google.com/github/NavaSergio/Diplomado_AD/blob/main/Modulo1/python/4%20%20Declaraci%C3%B3n%20y%20asignaci%C3%B3n%20de%20variables/4.3.3.%20Manejo%20de%20errores%20en%20conversiones.ipynb\" target=\"_parent\"><img src=\"https://colab.research.google.com/assets/colab-badge.svg\" alt=\"Open In Colab\"/></a>"
      ]
    },
    {
      "cell_type": "code",
      "execution_count": 1,
      "metadata": {
        "id": "GV4anI2soBkd",
        "outputId": "4e79b9a1-fe5c-4b70-a181-0dfc4c78c69b",
        "colab": {
          "base_uri": "https://localhost:8080/"
        }
      },
      "outputs": [
        {
          "output_type": "stream",
          "name": "stdout",
          "text": [
            "Error: No se puede convertir 'abc' a un número entero.\n"
          ]
        }
      ],
      "source": [
        "# En algunas conversiones, pueden ocurrir errores si el valor no se puede convertir correctamente.\n",
        "\n",
        "# Ejemplo de error en conversión\n",
        "try:\n",
        "    numero_str = \"abc\"\n",
        "    numero_int = int(numero_str)  # Esto generará un error porque \"abc\" no es un número válido\n",
        "except ValueError:\n",
        "    print(\"Error: No se puede convertir 'abc' a un número entero.\")\n"
      ]
    },
    {
      "cell_type": "code",
      "execution_count": 2,
      "metadata": {
        "id": "f9GcLltZoBkf",
        "outputId": "49c060b6-e642-4ce9-f7f4-3c19e4e56d15",
        "colab": {
          "base_uri": "https://localhost:8080/"
        }
      },
      "outputs": [
        {
          "output_type": "stream",
          "name": "stdout",
          "text": [
            "Conversión exitosa: 123\n"
          ]
        }
      ],
      "source": [
        "\n",
        "# Ejemplo de conversión correcta\n",
        "try:\n",
        "    numero_str = \"123\"\n",
        "    numero_int = int(numero_str)  # Esto funcionará correctamente\n",
        "    print(\"Conversión exitosa:\", numero_int)\n",
        "except ValueError:\n",
        "    print(\"Error: No se puede convertir a un número entero.\")"
      ]
    }
  ],
  "metadata": {
    "language_info": {
      "name": "python"
    },
    "colab": {
      "provenance": [],
      "include_colab_link": true
    },
    "kernelspec": {
      "name": "python3",
      "display_name": "Python 3"
    }
  },
  "nbformat": 4,
  "nbformat_minor": 0
}