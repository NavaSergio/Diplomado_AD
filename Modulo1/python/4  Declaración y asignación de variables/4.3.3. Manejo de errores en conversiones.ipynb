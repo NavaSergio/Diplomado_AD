{
 "cells": [
  {
   "cell_type": "code",
   "execution_count": null,
   "metadata": {},
   "outputs": [],
   "source": [
    "# En algunas conversiones, pueden ocurrir errores si el valor no se puede convertir correctamente.\n",
    "\n",
    "# Ejemplo de error en conversión\n",
    "try:\n",
    "    numero_str = \"abc\"\n",
    "    numero_int = int(numero_str)  # Esto generará un error porque \"abc\" no es un número válido\n",
    "except ValueError:\n",
    "    print(\"Error: No se puede convertir 'abc' a un número entero.\")\n"
   ]
  },
  {
   "cell_type": "code",
   "execution_count": null,
   "metadata": {},
   "outputs": [],
   "source": [
    "\n",
    "# Ejemplo de conversión correcta\n",
    "try:\n",
    "    numero_str = \"123\"\n",
    "    numero_int = int(numero_str)  # Esto funcionará correctamente\n",
    "    print(\"Conversión exitosa:\", numero_int)\n",
    "except ValueError:\n",
    "    print(\"Error: No se puede convertir a un número entero.\")"
   ]
  }
 ],
 "metadata": {
  "language_info": {
   "name": "python"
  }
 },
 "nbformat": 4,
 "nbformat_minor": 2
}
