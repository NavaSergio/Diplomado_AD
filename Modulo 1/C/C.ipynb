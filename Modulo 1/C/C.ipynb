{
  "nbformat": 4,
  "nbformat_minor": 0,
  "metadata": {
    "colab": {
      "provenance": []
    },
    "kernelspec": {
      "name": "python3",
      "display_name": "Python 3"
    },
    "language_info": {
      "name": "python"
    }
  },
  "cells": [
    {
      "cell_type": "code",
      "execution_count": 1,
      "metadata": {
        "colab": {
          "base_uri": "https://localhost:8080/"
        },
        "id": "bzCd2G_RoPmq",
        "outputId": "c89495fc-7c0c-4f2e-d370-18daaa239f76"
      },
      "outputs": [
        {
          "output_type": "stream",
          "name": "stdout",
          "text": [
            "Writing 1.cpp\n"
          ]
        }
      ],
      "source": [
        "%%writefile 1.cpp\n",
        "/*\n",
        " * Tema 1: Instalación de un Entorno de Desarrollo en C\n",
        " *\n",
        " * Este programa de ejemplo muestra cómo instalar y configurar un entorno de desarrollo en C\n",
        " * en diferentes sistemas operativos (Windows, macOS, Linux).\n",
        " *\n",
        " * Autor: Jose Jesus Rocha Quezada   -  chuche@cimat.mx\n",
        " * Modulo 1: Introducción a C  - Tronco Comun\n",
        " */\n",
        "\n",
        "\n",
        "// Comentario en una línea\n",
        "#include <stdio.h> // El comentario funciona también al final de la línea\n",
        "\n",
        "// Función para instalar y configurar GCC en Windows\n",
        "void instalar_gcc_windows() {\n",
        "    printf(\"Instalando GCC en Windows...\\n\");\n",
        "    printf(\"1. Descargar MinGW desde https://sourceforge.net/projects/mingw/\\n\");\n",
        "    printf(\"2. Instalar MinGW siguiendo las instrucciones del instalador.\\n\");\n",
        "    printf(\"3. Configurar las variables de entorno:\\n\");\n",
        "    printf(\"   - Agregar la ruta de MinGW (por ejemplo, C:\\\\MinGW\\\\bin) a la variable de entorno PATH.\\n\");\n",
        "    printf(\"4. Verificar la instalación:\\n\");\n",
        "    printf(\"   - Abrir la línea de comandos y ejecutar 'gcc --version'.\\n\");\n",
        "    printf(\"GCC instalado y configurado correctamente en Windows.\\n\");\n",
        "}\n",
        "\n",
        "// Función para instalar y configurar GCC en macOS\n",
        "void instalar_gcc_macos() {\n",
        "    printf(\"Instalando GCC en macOS...\\n\");\n",
        "    printf(\"1. Verificar si GCC ya está instalado:\\n\");\n",
        "    printf(\"   - Abrir la terminal y ejecutar 'gcc --version'.\\n\");\n",
        "    printf(\"2. Si no está instalado, instalar Xcode Command Line Tools:\\n\");\n",
        "    printf(\"   - Ejecutar 'xcode-select --install' en la terminal.\\n\");\n",
        "    printf(\"3. Verificar la instalación:\\n\");\n",
        "    printf(\"   - Ejecutar 'gcc --version' en la terminal.\\n\");\n",
        "    printf(\"GCC instalado y configurado correctamente en macOS.\\n\");\n",
        "}\n",
        "\n",
        "// Función para instalar y configurar GCC en Linux\n",
        "void instalar_gcc_linux() {\n",
        "    printf(\"Instalando GCC en Linux...\\n\");\n",
        "    printf(\"1. Verificar si GCC ya está instalado:\\n\");\n",
        "    printf(\"   - Abrir la terminal y ejecutar 'gcc --version'.\\n\");\n",
        "    printf(\"2. Si no está instalado, instalar GCC usando el gestor de paquetes:\\n\");\n",
        "    printf(\"   - Ejecutar 'sudo apt-get install gcc' en Ubuntu.\\n\");\n",
        "    printf(\"3. Verificar la instalación:\\n\");\n",
        "    printf(\"   - Ejecutar 'gcc --version' en la terminal.\\n\");\n",
        "    printf(\"GCC instalado y configurado correctamente en Linux.\\n\");\n",
        "}\n",
        "\n",
        "// Función para configurar un IDE en Windows\n",
        "void configurar_ide_windows() {\n",
        "    printf(\"Configurando un IDE en Windows...\\n\");\n",
        "    printf(\"1. Descargar e instalar Code::Blocks desde http://www.codeblocks.org/downloads\\n\");\n",
        "    printf(\"2. Configurar Code::Blocks para usar GCC:\\n\");\n",
        "    printf(\"   - En Code::Blocks, ir a Settings > Compiler y seleccionar 'GNU GCC Compiler'.\\n\");\n",
        "    printf(\"3. Verificar la configuración:\\n\");\n",
        "    printf(\"   - Crear un nuevo proyecto y compilar un programa simple.\\n\");\n",
        "    printf(\"IDE configurado correctamente en Windows.\\n\");\n",
        "}\n",
        "\n",
        "// Función para configurar un IDE en macOS\n",
        "void configurar_ide_macos() {\n",
        "    printf(\"Configurando un IDE en macOS...\\n\");\n",
        "    printf(\"1. Descargar e instalar Xcode desde la App Store.\\n\");\n",
        "    printf(\"2. Configurar Xcode para usar GCC:\\n\");\n",
        "    printf(\"   - En Xcode, crear un nuevo proyecto y seleccionar 'Command Line Tool'.\\n\");\n",
        "    printf(\"3. Verificar la configuración:\\n\");\n",
        "    printf(\"   - Compilar y ejecutar un programa simple.\\n\");\n",
        "    printf(\"IDE configurado correctamente en macOS.\\n\");\n",
        "}\n",
        "\n",
        "// Función para configurar un IDE en Linux\n",
        "void configurar_ide_linux() {\n",
        "    printf(\"Configurando un IDE en Linux...\\n\");\n",
        "    printf(\"1. Descargar e instalar Visual Studio Code desde https://code.visualstudio.com/\\n\");\n",
        "    printf(\"2. Instalar la extensión de C/C++ en VS Code:\\n\");\n",
        "    printf(\"   - En VS Code, ir a Extensions y buscar 'C/C++'.\\n\");\n",
        "    printf(\"3. Configurar VS Code para usar GCC:\\n\");\n",
        "    printf(\"   - Crear un archivo de configuración 'tasks.json' para compilar con GCC.\\n\");\n",
        "    printf(\"4. Verificar la configuración:\\n\");\n",
        "    printf(\"   - Compilar y ejecutar un programa simple.\\n\");\n",
        "    printf(\"IDE configurado correctamente en Linux.\\n\");\n",
        "}\n",
        "\n",
        "int main() {\n",
        "    printf(\"Instalación y configuración de un entorno de desarrollo en C\\n\");\n",
        "\n",
        "    // Instalación de GCC en diferentes sistemas operativos\n",
        "    instalar_gcc_windows();\n",
        "    instalar_gcc_macos();\n",
        "    instalar_gcc_linux();\n",
        "\n",
        "    // Configuración de un IDE en diferentes sistemas operativos\n",
        "    configurar_ide_windows();\n",
        "    configurar_ide_macos();\n",
        "    configurar_ide_linux();\n",
        "\n",
        "    printf(\"Proceso de instalación y configuración completado.\\n\");\n",
        "    return 0;\n",
        "}"
      ]
    },
    {
      "cell_type": "code",
      "source": [
        "! g++ 1.cpp -o Sesion1.out"
      ],
      "metadata": {
        "id": "H1MRTmrKot85"
      },
      "execution_count": 2,
      "outputs": []
    },
    {
      "cell_type": "code",
      "source": [
        "! ./Sesion1.out"
      ],
      "metadata": {
        "colab": {
          "base_uri": "https://localhost:8080/"
        },
        "id": "YStCgbV9pEPU",
        "outputId": "36000422-4991-46b5-8dda-bbdee0561771"
      },
      "execution_count": 3,
      "outputs": [
        {
          "output_type": "stream",
          "name": "stdout",
          "text": [
            "Instalación y configuración de un entorno de desarrollo en C\n",
            "Instalando GCC en Windows...\n",
            "1. Descargar MinGW desde https://sourceforge.net/projects/mingw/\n",
            "2. Instalar MinGW siguiendo las instrucciones del instalador.\n",
            "3. Configurar las variables de entorno:\n",
            "   - Agregar la ruta de MinGW (por ejemplo, C:\\MinGW\\bin) a la variable de entorno PATH.\n",
            "4. Verificar la instalación:\n",
            "   - Abrir la línea de comandos y ejecutar 'gcc --version'.\n",
            "GCC instalado y configurado correctamente en Windows.\n",
            "Instalando GCC en macOS...\n",
            "1. Verificar si GCC ya está instalado:\n",
            "   - Abrir la terminal y ejecutar 'gcc --version'.\n",
            "2. Si no está instalado, instalar Xcode Command Line Tools:\n",
            "   - Ejecutar 'xcode-select --install' en la terminal.\n",
            "3. Verificar la instalación:\n",
            "   - Ejecutar 'gcc --version' en la terminal.\n",
            "GCC instalado y configurado correctamente en macOS.\n",
            "Instalando GCC en Linux...\n",
            "1. Verificar si GCC ya está instalado:\n",
            "   - Abrir la terminal y ejecutar 'gcc --version'.\n",
            "2. Si no está instalado, instalar GCC usando el gestor de paquetes:\n",
            "   - Ejecutar 'sudo apt-get install gcc' en Ubuntu.\n",
            "3. Verificar la instalación:\n",
            "   - Ejecutar 'gcc --version' en la terminal.\n",
            "GCC instalado y configurado correctamente en Linux.\n",
            "Configurando un IDE en Windows...\n",
            "1. Descargar e instalar Code::Blocks desde http://www.codeblocks.org/downloads\n",
            "2. Configurar Code::Blocks para usar GCC:\n",
            "   - En Code::Blocks, ir a Settings > Compiler y seleccionar 'GNU GCC Compiler'.\n",
            "3. Verificar la configuración:\n",
            "   - Crear un nuevo proyecto y compilar un programa simple.\n",
            "IDE configurado correctamente en Windows.\n",
            "Configurando un IDE en macOS...\n",
            "1. Descargar e instalar Xcode desde la App Store.\n",
            "2. Configurar Xcode para usar GCC:\n",
            "   - En Xcode, crear un nuevo proyecto y seleccionar 'Command Line Tool'.\n",
            "3. Verificar la configuración:\n",
            "   - Compilar y ejecutar un programa simple.\n",
            "IDE configurado correctamente en macOS.\n",
            "Configurando un IDE en Linux...\n",
            "1. Descargar e instalar Visual Studio Code desde https://code.visualstudio.com/\n",
            "2. Instalar la extensión de C/C++ en VS Code:\n",
            "   - En VS Code, ir a Extensions y buscar 'C/C++'.\n",
            "3. Configurar VS Code para usar GCC:\n",
            "   - Crear un archivo de configuración 'tasks.json' para compilar con GCC.\n",
            "4. Verificar la configuración:\n",
            "   - Compilar y ejecutar un programa simple.\n",
            "IDE configurado correctamente en Linux.\n",
            "Proceso de instalación y configuración completado.\n"
          ]
        }
      ]
    },
    {
      "cell_type": "code",
      "source": [
        "%%writefile 2.cpp\n",
        "/*\n",
        " * Tema 2: Introducción a C\n",
        " *\n",
        " * Este programa de ejemplo muestra una introducción al lenguaje de programación C,\n",
        " * incluyendo su historia, características principales, ventajas y aplicaciones.\n",
        " *\n",
        " * Autor: Jose Jesus Rocha Quezada   -  chuche@cimat.mx\n",
        " * Modulo 1: Introducción a C  - Tronco Comun\n",
        " */\n",
        "\n",
        "#include <stdio.h>\n",
        "\n",
        "// Función para mostrar la historia de C\n",
        "void mostrar_historia_c() {\n",
        "    printf(\"Historia de C:\\n\");\n",
        "    printf(\"C fue creado por Dennis Ritchie en los laboratorios Bell en la década de 1970.\\n\");\n",
        "    printf(\"Inicialmente, C fue desarrollado como un lenguaje para escribir el sistema operativo UNIX.\\n\");\n",
        "    printf(\"A lo largo de los años, C ha evolucionado y se ha convertido en uno de los lenguajes de programación más populares.\\n\");\n",
        "    printf(\"\\n\");\n",
        "}\n",
        "\n",
        "// Función para mostrar las características principales de C\n",
        "void mostrar_caracteristicas_c() {\n",
        "    printf(\"Características principales de C:\\n\");\n",
        "    printf(\"- Eficiencia: C es conocido por su alto rendimiento y eficiencia.\\n\");\n",
        "    printf(\"- Portabilidad: Los programas en C pueden ser compilados y ejecutados en diferentes plataformas.\\n\");\n",
        "    printf(\"- Flexibilidad: C permite un control directo sobre el hardware y la memoria.\\n\");\n",
        "    printf(\"- Simplicidad: La sintaxis de C es simple y fácil de aprender.\\n\");\n",
        "    printf(\"\\n\");\n",
        "}\n",
        "\n",
        "// Función para mostrar las ventajas de C\n",
        "void mostrar_ventajas_c() {\n",
        "    printf(\"Ventajas de C:\\n\");\n",
        "    printf(\"- Eficiencia y rendimiento: C permite escribir código de bajo nivel que se ejecuta rápidamente.\\n\");\n",
        "    printf(\"- Control directo sobre el hardware: C permite acceder a recursos de hardware de manera directa.\\n\");\n",
        "    printf(\"- Amplia comunidad y soporte: Existe una gran cantidad de recursos y bibliotecas disponibles.\\n\");\n",
        "    printf(\"\\n\");\n",
        "}\n",
        "\n",
        "// Función para mostrar las aplicaciones de C\n",
        "void mostrar_aplicaciones_c() {\n",
        "    printf(\"Aplicaciones de C:\\n\");\n",
        "    printf(\"- Desarrollo de sistemas operativos: C es el lenguaje principal para escribir sistemas operativos como UNIX y Linux.\\n\");\n",
        "    printf(\"- Desarrollo de controladores de dispositivos: C se utiliza para escribir controladores de hardware.\\n\");\n",
        "    printf(\"- Aplicaciones de alto rendimiento: C es ideal para aplicaciones que requieren un alto rendimiento, como juegos y aplicaciones científicas.\\n\");\n",
        "    printf(\"\\n\");\n",
        "}\n",
        "\n",
        "int main() {\n",
        "    printf(\"Introducción a C\\n\");\n",
        "\n",
        "    // Mostrar la historia de C\n",
        "    mostrar_historia_c();\n",
        "\n",
        "    // Mostrar las características principales de C\n",
        "    mostrar_caracteristicas_c();\n",
        "\n",
        "    // Mostrar las ventajas de C\n",
        "    mostrar_ventajas_c();\n",
        "\n",
        "    // Mostrar las aplicaciones de C\n",
        "    mostrar_aplicaciones_c();\n",
        "\n",
        "    printf(\"Proceso de introducción a C completado.\\n\");\n",
        "    return 0;\n",
        "}\n"
      ],
      "metadata": {
        "colab": {
          "base_uri": "https://localhost:8080/"
        },
        "id": "0t_xv-8Ep4sw",
        "outputId": "deb9bf41-9913-4029-839c-77d526cb8429"
      },
      "execution_count": 4,
      "outputs": [
        {
          "output_type": "stream",
          "name": "stdout",
          "text": [
            "Writing 2.cpp\n"
          ]
        }
      ]
    },
    {
      "cell_type": "code",
      "source": [
        "! g++ 2.cpp -o Sesion2.out"
      ],
      "metadata": {
        "id": "vpom5fAyqCIo"
      },
      "execution_count": 5,
      "outputs": []
    },
    {
      "cell_type": "code",
      "source": [
        "! ./Sesion2.out"
      ],
      "metadata": {
        "colab": {
          "base_uri": "https://localhost:8080/"
        },
        "id": "JqA2yrPyqIgy",
        "outputId": "321abcb5-3c88-479c-fd6d-71ab02ef1f1f"
      },
      "execution_count": 6,
      "outputs": [
        {
          "output_type": "stream",
          "name": "stdout",
          "text": [
            "Introducción a C\n",
            "Historia de C:\n",
            "C fue creado por Dennis Ritchie en los laboratorios Bell en la década de 1970.\n",
            "Inicialmente, C fue desarrollado como un lenguaje para escribir el sistema operativo UNIX.\n",
            "A lo largo de los años, C ha evolucionado y se ha convertido en uno de los lenguajes de programación más populares.\n",
            "\n",
            "Características principales de C:\n",
            "- Eficiencia: C es conocido por su alto rendimiento y eficiencia.\n",
            "- Portabilidad: Los programas en C pueden ser compilados y ejecutados en diferentes plataformas.\n",
            "- Flexibilidad: C permite un control directo sobre el hardware y la memoria.\n",
            "- Simplicidad: La sintaxis de C es simple y fácil de aprender.\n",
            "\n",
            "Ventajas de C:\n",
            "- Eficiencia y rendimiento: C permite escribir código de bajo nivel que se ejecuta rápidamente.\n",
            "- Control directo sobre el hardware: C permite acceder a recursos de hardware de manera directa.\n",
            "- Amplia comunidad y soporte: Existe una gran cantidad de recursos y bibliotecas disponibles.\n",
            "\n",
            "Aplicaciones de C:\n",
            "- Desarrollo de sistemas operativos: C es el lenguaje principal para escribir sistemas operativos como UNIX y Linux.\n",
            "- Desarrollo de controladores de dispositivos: C se utiliza para escribir controladores de hardware.\n",
            "- Aplicaciones de alto rendimiento: C es ideal para aplicaciones que requieren un alto rendimiento, como juegos y aplicaciones científicas.\n",
            "\n",
            "Proceso de introducción a C completado.\n"
          ]
        }
      ]
    },
    {
      "cell_type": "code",
      "source": [
        "%%writefile 3.cpp\n",
        "/*\n",
        " * Tema 3: Estructura básica de un programa en C\n",
        " *\n",
        " * Este programa de ejemplo muestra la estructura básica de un programa en C,\n",
        " * incluyendo la sintaxis básica, comentarios y el uso de la consola para compilar y ejecutar programas.\n",
        " *\n",
        " * Autor: Jose Jesus Rocha Quezada   -  chuche@cimat.mx\n",
        " * Modulo 1: Introducción a C  - Tronco Comun\n",
        " */\n",
        "\n",
        "#include <stdio.h>  // Incluir la biblioteca estándar de entrada y salida\n",
        "\n",
        "// Función principal del programa\n",
        "int main() {\n",
        "    // Comentario de una línea: Esta línea es un comentario y no se ejecuta\n",
        "\n",
        "    /*\n",
        "     * Comentario de múltiples líneas:\n",
        "     * Este es un comentario de varias líneas que explica el propósito del programa.\n",
        "     */\n",
        "\n",
        "    // Imprimir un mensaje en la consola\n",
        "    printf(\"Hola, mundo!\\n\");\n",
        "\n",
        "    // Retornar 0 para indicar que el programa terminó correctamente\n",
        "    return 0;\n",
        "}"
      ],
      "metadata": {
        "colab": {
          "base_uri": "https://localhost:8080/"
        },
        "id": "IX7NjRagqOLw",
        "outputId": "f1f16029-d77a-4c21-c456-a12e7ddea5a8"
      },
      "execution_count": 7,
      "outputs": [
        {
          "output_type": "stream",
          "name": "stdout",
          "text": [
            "Writing 3.cpp\n"
          ]
        }
      ]
    },
    {
      "cell_type": "code",
      "source": [
        "! gcc 3.cpp -o HolaMundo.out"
      ],
      "metadata": {
        "id": "0Rt2aIxaqWeG"
      },
      "execution_count": 8,
      "outputs": []
    },
    {
      "cell_type": "code",
      "source": [
        "! ./HolaMundo.out"
      ],
      "metadata": {
        "colab": {
          "base_uri": "https://localhost:8080/"
        },
        "id": "N9Fdl1_hqcaM",
        "outputId": "d4dfcc99-f089-42b2-bd1f-8a554dd050e5"
      },
      "execution_count": 9,
      "outputs": [
        {
          "output_type": "stream",
          "name": "stdout",
          "text": [
            "Hola, mundo!\n"
          ]
        }
      ]
    },
    {
      "cell_type": "code",
      "source": [
        "%%writefile 4.cpp\n",
        "/*\n",
        " * Tema 4: Variables y tipos de datos\n",
        " *\n",
        " * Este programa de ejemplo muestra cómo declarar y asignar variables,\n",
        " * los tipos de datos básicos en C, y la conversión de tipos de datos.\n",
        " *\n",
        " * Autor: Jose Jesus Rocha Quezada   -  chuche@cimat.mx\n",
        " * Modulo 1: Introducción a C  - Tronco Comun\n",
        " */\n",
        "\n",
        "#include <stdio.h>  // Incluir la biblioteca estándar de entrada y salida\n",
        "\n",
        "int main() {\n",
        "    // Declaración y asignación de variables\n",
        "    int edad = 25;  // Variable de tipo entero\n",
        "    float altura = 1.75;  // Variable de tipo flotante\n",
        "    char inicial = 'J';  // Variable de tipo carácter\n",
        "    char nombre[] = \"Juan\";  // Variable de tipo cadena de caracteres\n",
        "\n",
        "    // Imprimir los valores de las variables\n",
        "    printf(\"Edad: %d\\n\", edad);\n",
        "    printf(\"Altura: %.2f\\n\", altura);\n",
        "    printf(\"Inicial: %c\\n\", inicial);\n",
        "    printf(\"Nombre: %s\\n\", nombre);\n",
        "\n",
        "    // Tipos de datos básicos\n",
        "    int entero = 10;  // Entero\n",
        "    float flotante = 3.14;  // Flotante\n",
        "    double doble = 2.71828;  // Doble precisión\n",
        "    char caracter = 'A';  // Carácter\n",
        "    bool booleano = 1;  // Booleano (0 para falso, 1 para verdadero)\n",
        "\n",
        "    // Imprimir los valores de los tipos de datos básicos\n",
        "    printf(\"Entero: %d\\n\", entero);\n",
        "    printf(\"Flotante: %.2f\\n\", flotante);\n",
        "    printf(\"Doble: %.5f\\n\", doble);\n",
        "    printf(\"Caracter: %c\\n\", caracter);\n",
        "    printf(\"Booleano: %d\\n\", booleano);\n",
        "\n",
        "    // Conversión de tipos de datos (casting)\n",
        "    int a = 10;\n",
        "    float b = 3.5;\n",
        "    float resultado = a + b;  // Conversión implícita de int a float\n",
        "    printf(\"Resultado de a + b: %.2f\\n\", resultado);\n",
        "\n",
        "    int c = (int)b;  // Conversión explícita de float a int\n",
        "    printf(\"Valor de c después de casting: %d\\n\", c);\n",
        "\n",
        "    return 0;\n",
        "}"
      ],
      "metadata": {
        "colab": {
          "base_uri": "https://localhost:8080/"
        },
        "id": "4aDLO23cqjHc",
        "outputId": "046948b2-0e5d-4539-d4b3-cfe0ebd054c1"
      },
      "execution_count": 10,
      "outputs": [
        {
          "output_type": "stream",
          "name": "stdout",
          "text": [
            "Writing 4.cpp\n"
          ]
        }
      ]
    },
    {
      "cell_type": "code",
      "source": [
        "! gcc 4.cpp -o Sesion4.out"
      ],
      "metadata": {
        "id": "fMLY9QIvq0Tr"
      },
      "execution_count": 11,
      "outputs": []
    },
    {
      "cell_type": "code",
      "source": [
        "! ./Sesion4.out"
      ],
      "metadata": {
        "colab": {
          "base_uri": "https://localhost:8080/"
        },
        "id": "SZiOnuXarEI3",
        "outputId": "f0ba6319-3a9e-4bf2-a0d3-ed5bd0a2f604"
      },
      "execution_count": 12,
      "outputs": [
        {
          "output_type": "stream",
          "name": "stdout",
          "text": [
            "Edad: 25\n",
            "Altura: 1.75\n",
            "Inicial: J\n",
            "Nombre: Juan\n",
            "Entero: 10\n",
            "Flotante: 3.14\n",
            "Doble: 2.71828\n",
            "Caracter: A\n",
            "Booleano: 1\n",
            "Resultado de a + b: 13.50\n",
            "Valor de c después de casting: 3\n"
          ]
        }
      ]
    },
    {
      "cell_type": "code",
      "source": [
        "%%writefile 5.cpp\n",
        "/*\n",
        " * Tema 5: Operadores y expresiones\n",
        " *\n",
        " * Este programa de ejemplo muestra el uso de operadores y expresiones en C,\n",
        " * incluyendo operadores aritméticos, de comparación, lógicos y la precedencia de operadores.\n",
        " *\n",
        " * Autor: Jose Jesus Rocha Quezada   -  chuche@cimat.mx\n",
        " * Modulo 1: Introducción a C  - Tronco Comun\n",
        " */\n",
        "\n",
        "#include <stdio.h>  // Incluir la biblioteca estándar de entrada y salida\n",
        "\n",
        "int main() {\n",
        "    // Operadores aritméticos\n",
        "    int a = 10;\n",
        "    int b = 3;\n",
        "\n",
        "    int suma = a + b;  // Suma\n",
        "    int resta = a - b;  // Resta\n",
        "    int multiplicacion = a * b;  // Multiplicación\n",
        "    int division = a / b;  // División\n",
        "    int modulo = a % b;  // Módulo (resto de la división)\n",
        "\n",
        "    printf(\"Operadores aritméticos:\\n\");\n",
        "    printf(\"Suma: %d\\n\", suma);\n",
        "    printf(\"Resta: %d\\n\", resta);\n",
        "    printf(\"Multiplicación: %d\\n\", multiplicacion);\n",
        "    printf(\"División: %d\\n\", division);\n",
        "    printf(\"Módulo: %d\\n\", modulo);\n",
        "    printf(\"\\n\");\n",
        "\n",
        "    // Operadores de comparación\n",
        "    int x = 5;\n",
        "    int y = 8;\n",
        "\n",
        "    int igual = (x == y);  // Igual a\n",
        "    int diferente = (x != y);  // Diferente de\n",
        "    int mayor_que = (x > y);  // Mayor que\n",
        "    int menor_que = (x < y);  // Menor que\n",
        "    int mayor_o_igual = (x >= y);  // Mayor o igual que\n",
        "    int menor_o_igual = (x <= y);  // Menor o igual que\n",
        "\n",
        "    printf(\"Operadores de comparación:\\n\");\n",
        "    printf(\"Igual: %d\\n\", igual);\n",
        "    printf(\"Diferente: %d\\n\", diferente);\n",
        "    printf(\"Mayor que: %d\\n\", mayor_que);\n",
        "    printf(\"Menor que: %d\\n\", menor_que);\n",
        "    printf(\"Mayor o igual que: %d\\n\", mayor_o_igual);\n",
        "    printf(\"Menor o igual que: %d\\n\", menor_o_igual);\n",
        "    printf(\"\\n\");\n",
        "\n",
        "    // Operadores lógicos\n",
        "    int p = 1;  // Verdadero\n",
        "    int q = 0;  // Falso\n",
        "\n",
        "    int and_logico = (p && q);  // AND lógico\n",
        "    int or_logico = (p || q);  // OR lógico\n",
        "    int not_logico = !p;  // NOT lógico\n",
        "\n",
        "    printf(\"Operadores lógicos:\\n\");\n",
        "    printf(\"AND lógico: %d\\n\", and_logico);\n",
        "    printf(\"OR lógico: %d\\n\", or_logico);\n",
        "    printf(\"NOT lógico: %d\\n\", not_logico);\n",
        "    printf(\"\\n\");\n",
        "\n",
        "    // Precedencia de operadores\n",
        "    int resultado = 5 + 3 * 2;  // Multiplicación tiene mayor precedencia que suma\n",
        "    printf(\"Precedencia de operadores:\\n\");\n",
        "    printf(\"5 + 3 * 2 = %d\\n\", resultado);\n",
        "\n",
        "    resultado = (5 + 3) * 2;  // Paréntesis tiene mayor precedencia\n",
        "    printf(\"(5 + 3) * 2 = %d\\n\", resultado);\n",
        "\n",
        "    return 0;\n",
        "}\n"
      ],
      "metadata": {
        "colab": {
          "base_uri": "https://localhost:8080/"
        },
        "id": "V8z01l1e0Jyy",
        "outputId": "c85c0762-3fe1-444d-e1dc-11c3b0352211"
      },
      "execution_count": 13,
      "outputs": [
        {
          "output_type": "stream",
          "name": "stdout",
          "text": [
            "Writing 5.cpp\n"
          ]
        }
      ]
    },
    {
      "cell_type": "code",
      "source": [
        "! gcc 5.cpp -o Sesion5.out"
      ],
      "metadata": {
        "id": "s_2d04Qq0Rmn"
      },
      "execution_count": 14,
      "outputs": []
    },
    {
      "cell_type": "code",
      "source": [
        "! ./Sesion5.out"
      ],
      "metadata": {
        "colab": {
          "base_uri": "https://localhost:8080/"
        },
        "id": "Ia_rmZEB0akM",
        "outputId": "39eebcab-3d78-4ee2-fd1c-35102dd75800"
      },
      "execution_count": 15,
      "outputs": [
        {
          "output_type": "stream",
          "name": "stdout",
          "text": [
            "Operadores aritméticos:\n",
            "Suma: 13\n",
            "Resta: 7\n",
            "Multiplicación: 30\n",
            "División: 3\n",
            "Módulo: 1\n",
            "\n",
            "Operadores de comparación:\n",
            "Igual: 0\n",
            "Diferente: 1\n",
            "Mayor que: 0\n",
            "Menor que: 1\n",
            "Mayor o igual que: 0\n",
            "Menor o igual que: 1\n",
            "\n",
            "Operadores lógicos:\n",
            "AND lógico: 0\n",
            "OR lógico: 1\n",
            "NOT lógico: 0\n",
            "\n",
            "Precedencia de operadores:\n",
            "5 + 3 * 2 = 11\n",
            "(5 + 3) * 2 = 16\n"
          ]
        }
      ]
    },
    {
      "cell_type": "code",
      "source": [
        "%%writefile 6.cpp\n",
        "/*\n",
        " * Tema 6: Estructuras de control: condicionales\n",
        " *\n",
        " * Este programa de ejemplo muestra el uso de estructuras de control condicionales en C,\n",
        " * incluyendo las sentencias `if`, `else if`, y `else`.\n",
        " *\n",
        " * Autor: Jose Jesus Rocha Quezada   -  chuche@cimat.mx\n",
        " * Modulo 1: Introducción a C  - Tronco Comun\n",
        " */\n",
        "\n",
        "#include <stdio.h>  // Incluir la biblioteca estándar de entrada y salida\n",
        "\n",
        "int main() {\n",
        "    // Ejemplo de sentencia `if`\n",
        "    int edad = 18;\n",
        "\n",
        "    if (edad >= 18) {\n",
        "        printf(\"Eres mayor de edad.\\n\");\n",
        "    }\n",
        "\n",
        "    // Ejemplo de sentencia `if-else`\n",
        "    int nota = 75;\n",
        "\n",
        "    if (nota >= 70) {\n",
        "        printf(\"Aprobado.\\n\");\n",
        "    } else {\n",
        "        printf(\"Reprobado.\\n\");\n",
        "    }\n",
        "\n",
        "    // Ejemplo de sentencia `if-else if-else`\n",
        "    int dia_semana = 3;\n",
        "\n",
        "    if (dia_semana == 1) {\n",
        "        printf(\"Lunes.\\n\");\n",
        "    } else if (dia_semana == 2) {\n",
        "        printf(\"Martes.\\n\");\n",
        "    } else if (dia_semana == 3) {\n",
        "        printf(\"Miércoles.\\n\");\n",
        "    } else if (dia_semana == 4) {\n",
        "        printf(\"Jueves.\\n\");\n",
        "    } else if (dia_semana == 5) {\n",
        "        printf(\"Viernes.\\n\");\n",
        "    } else if (dia_semana == 6) {\n",
        "        printf(\"Sábado.\\n\");\n",
        "    } else if (dia_semana == 7) {\n",
        "        printf(\"Domingo.\\n\");\n",
        "    } else {\n",
        "        printf(\"Día inválido.\\n\");\n",
        "    }\n",
        "\n",
        "    // Ejemplo de uso de operadores de comparación y lógicos en condicionales\n",
        "    int hora = 14;\n",
        "    int es_fin_de_semana = 0;  // 0 para falso, 1 para verdadero\n",
        "\n",
        "    if (hora >= 9 && hora <= 17 && !es_fin_de_semana) {\n",
        "        printf(\"Estás en horario laboral.\\n\");\n",
        "    } else {\n",
        "        printf(\"No estás en horario laboral.\\n\");\n",
        "    }\n",
        "\n",
        "    return 0;\n",
        "}"
      ],
      "metadata": {
        "colab": {
          "base_uri": "https://localhost:8080/"
        },
        "id": "N_pHJd-S09r_",
        "outputId": "38b0b86d-6ac2-41b3-a9fc-d82b1c48afc6"
      },
      "execution_count": 16,
      "outputs": [
        {
          "output_type": "stream",
          "name": "stdout",
          "text": [
            "Writing 6.cpp\n"
          ]
        }
      ]
    },
    {
      "cell_type": "code",
      "source": [
        "! gcc 6.cpp -o Sesion6.out"
      ],
      "metadata": {
        "id": "5ipsXuKw1Db9"
      },
      "execution_count": 17,
      "outputs": []
    },
    {
      "cell_type": "code",
      "source": [
        "! ./Sesion6.out"
      ],
      "metadata": {
        "colab": {
          "base_uri": "https://localhost:8080/"
        },
        "id": "sD_5WqcT1GKs",
        "outputId": "8fc7d0fa-0242-4848-dabb-fff829682214"
      },
      "execution_count": 18,
      "outputs": [
        {
          "output_type": "stream",
          "name": "stdout",
          "text": [
            "Eres mayor de edad.\n",
            "Aprobado.\n",
            "Miércoles.\n",
            "Estás en horario laboral.\n"
          ]
        }
      ]
    },
    {
      "cell_type": "code",
      "source": [
        "%%writefile 7.cpp\n",
        "/*\n",
        " * Tema 7: Estructuras de control: bucles\n",
        " *\n",
        " * Este programa de ejemplo muestra el uso de estructuras de control de bucles en C,\n",
        " * incluyendo los bucles `for`, `while`, y `do-while`, así como el uso de las sentencias `break` y `continue`.\n",
        " *\n",
        " * Autor: Jose Jesus Rocha Quezada   -  chuche@cimat.mx\n",
        " * Modulo 1: Introducción a C  - Tronco Comun\n",
        " */\n",
        "\n",
        "#include <stdio.h>  // Incluir la biblioteca estándar de entrada y salida\n",
        "\n",
        "int main() {\n",
        "    // Bucle `for`\n",
        "    printf(\"Bucle `for`:\\n\");\n",
        "    for (int i = 0; i < 5; i++) {\n",
        "        printf(\"Iteración %d\\n\", i);\n",
        "    }\n",
        "    printf(\"\\n\");\n",
        "\n",
        "    // Bucle `while`\n",
        "    printf(\"Bucle `while`:\\n\");\n",
        "    int j = 0;\n",
        "    while (j < 5) {\n",
        "        printf(\"Iteración %d\\n\", j);\n",
        "        j++;\n",
        "    }\n",
        "    printf(\"\\n\");\n",
        "\n",
        "    // Bucle `do-while`\n",
        "    printf(\"Bucle `do-while`:\\n\");\n",
        "    int k = 0;\n",
        "    do {\n",
        "        printf(\"Iteración %d\\n\", k);\n",
        "        k++;\n",
        "    } while (k < 5);\n",
        "    printf(\"\\n\");\n",
        "\n",
        "    // Uso de `break` en un bucle `for`\n",
        "    printf(\"Uso de `break` en un bucle `for`:\\n\");\n",
        "    for (int i = 0; i < 10; i++) {\n",
        "        if (i == 5) {\n",
        "            break;  // Termina el bucle cuando i es igual a 5\n",
        "        }\n",
        "        printf(\"Iteración %d\\n\", i);\n",
        "    }\n",
        "    printf(\"\\n\");\n",
        "\n",
        "    // Uso de `continue` en un bucle `while`\n",
        "    printf(\"Uso de `continue` en un bucle `while`:\\n\");\n",
        "    int l = 0;\n",
        "    while (l < 10) {\n",
        "        l++;\n",
        "        if (l % 2 == 0) {\n",
        "            continue;  // Salta a la siguiente iteración si l es par\n",
        "        }\n",
        "        printf(\"Iteración %d\\n\", l);\n",
        "    }\n",
        "    printf(\"\\n\");\n",
        "\n",
        "    return 0;\n",
        "}"
      ],
      "metadata": {
        "colab": {
          "base_uri": "https://localhost:8080/"
        },
        "id": "X97GDnjL1rI3",
        "outputId": "4379beab-4708-4605-a286-7cedf190a7de"
      },
      "execution_count": 19,
      "outputs": [
        {
          "output_type": "stream",
          "name": "stdout",
          "text": [
            "Writing 7.cpp\n"
          ]
        }
      ]
    },
    {
      "cell_type": "code",
      "source": [
        "! gcc 7.cpp -o Sesion7.out"
      ],
      "metadata": {
        "id": "rsWMiU7X1xIM"
      },
      "execution_count": 20,
      "outputs": []
    },
    {
      "cell_type": "code",
      "source": [
        "! ./Sesion7.out"
      ],
      "metadata": {
        "colab": {
          "base_uri": "https://localhost:8080/"
        },
        "id": "DzgXQCqY11sA",
        "outputId": "79036d06-6fdb-4efd-f7a5-dc12dcbecd23"
      },
      "execution_count": 21,
      "outputs": [
        {
          "output_type": "stream",
          "name": "stdout",
          "text": [
            "Bucle `for`:\n",
            "Iteración 0\n",
            "Iteración 1\n",
            "Iteración 2\n",
            "Iteración 3\n",
            "Iteración 4\n",
            "\n",
            "Bucle `while`:\n",
            "Iteración 0\n",
            "Iteración 1\n",
            "Iteración 2\n",
            "Iteración 3\n",
            "Iteración 4\n",
            "\n",
            "Bucle `do-while`:\n",
            "Iteración 0\n",
            "Iteración 1\n",
            "Iteración 2\n",
            "Iteración 3\n",
            "Iteración 4\n",
            "\n",
            "Uso de `break` en un bucle `for`:\n",
            "Iteración 0\n",
            "Iteración 1\n",
            "Iteración 2\n",
            "Iteración 3\n",
            "Iteración 4\n",
            "\n",
            "Uso de `continue` en un bucle `while`:\n",
            "Iteración 1\n",
            "Iteración 3\n",
            "Iteración 5\n",
            "Iteración 7\n",
            "Iteración 9\n",
            "\n"
          ]
        }
      ]
    },
    {
      "cell_type": "code",
      "source": [
        "%%writefile 8.cpp\n",
        "/*\n",
        " * Tema 8: Funciones\n",
        " *\n",
        " * Este programa de ejemplo muestra el uso de funciones en C,\n",
        " * incluyendo la definición y llamada de funciones, el uso de parámetros y argumentos,\n",
        " * el retorno de valores, y el uso de funciones con parámetros por referencia.\n",
        " *\n",
        " * Autor: Jose Jesus Rocha Quezada   -  chuche@cimat.mx\n",
        " * Modulo 1: Introducción a C  - Tronco Comun\n",
        " */\n",
        "\n",
        "#include <stdio.h>  // Incluir la biblioteca estándar de entrada y salida\n",
        "\n",
        "// Definición de una función simple\n",
        "void saludar() {\n",
        "    printf(\"Hola, mundo!\\n\");\n",
        "}\n",
        "\n",
        "// Definición de una función con parámetros\n",
        "int suma(int a, int b) {\n",
        "    return a + b;\n",
        "}\n",
        "\n",
        "// Definición de una función con parámetros por referencia\n",
        "void incrementar(int *a) {\n",
        "    (*a)++;\n",
        "}\n",
        "\n",
        "// Definición de una función lambda (simulada con una macro)\n",
        "#define CUADRADO(x) ((x) * (x))\n",
        "\n",
        "int main() {\n",
        "    // Llamada a una función simple\n",
        "    saludar();\n",
        "\n",
        "    // Llamada a una función con parámetros\n",
        "    int resultado = suma(3, 5);\n",
        "    printf(\"Resultado de la suma: %d\\n\", resultado);\n",
        "\n",
        "    // Uso de una función con parámetros por referencia\n",
        "    int numero = 10;\n",
        "    incrementar(&numero);\n",
        "    printf(\"Número después de incrementar: %d\\n\", numero);\n",
        "\n",
        "    // Uso de una función lambda (simulada con una macro)\n",
        "    int cuadrado = CUADRADO(5);\n",
        "    printf(\"Cuadrado de 5: %d\\n\", cuadrado);\n",
        "\n",
        "    return 0;\n",
        "}"
      ],
      "metadata": {
        "colab": {
          "base_uri": "https://localhost:8080/"
        },
        "id": "KiTcIeXvqS6B",
        "outputId": "3d602e3b-4745-42af-e2e3-6c41133ffe99"
      },
      "execution_count": 22,
      "outputs": [
        {
          "output_type": "stream",
          "name": "stdout",
          "text": [
            "Overwriting 8.cpp\n"
          ]
        }
      ]
    },
    {
      "cell_type": "code",
      "source": [
        "! gcc 8.cpp -o Sesion8.out"
      ],
      "metadata": {
        "id": "kTDPhn5ZqfnK"
      },
      "execution_count": 23,
      "outputs": []
    },
    {
      "cell_type": "code",
      "source": [
        "! ./Sesion8.out"
      ],
      "metadata": {
        "colab": {
          "base_uri": "https://localhost:8080/"
        },
        "id": "2Vkc2K72qk4l",
        "outputId": "9e114c90-a17f-4db2-947f-02edf71bbc0f"
      },
      "execution_count": 24,
      "outputs": [
        {
          "output_type": "stream",
          "name": "stdout",
          "text": [
            "Hola, mundo!\n",
            "Resultado de la suma: 8\n",
            "Número después de incrementar: 11\n",
            "Cuadrado de 5: 25\n"
          ]
        }
      ]
    },
    {
      "cell_type": "code",
      "source": [
        "%%writefile 9.cpp\n",
        "/*\n",
        " * Tema 9: Arreglos (Arrays)\n",
        " *\n",
        " * Este programa de ejemplo muestra el uso de arreglos (arrays) en C,\n",
        " * incluyendo la creación y manipulación de arreglos, el acceso a elementos de un arreglo,\n",
        " * y el uso de arreglos multidimensionales.\n",
        " *\n",
        " * Autor: Jose Jesus Rocha Quezada   -  chuche@cimat.mx\n",
        " * Modulo 1: Introducción a C  - Tronco Comun\n",
        " */\n",
        "\n",
        "#include <stdio.h>  // Incluir la biblioteca estándar de entrada y salida\n",
        "\n",
        "// Uso de arreglos como parámetros de funciones\n",
        "void imprimir_arreglo(int arr[], int tamano) {\n",
        "    printf(\"Arreglo pasado como parámetro:\\n\");\n",
        "    for (int i = 0; i < tamano; i++) {\n",
        "        printf(\"Elemento %d: %d\\n\", i, arr[i]);\n",
        "    }\n",
        "}\n",
        "int main() {\n",
        "    // Creación y manipulación de un arreglo unidimensional\n",
        "    int numeros[5];  // Declaración de un arreglo de 5 enteros\n",
        "\n",
        "    // Asignación de valores a los elementos del arreglo\n",
        "    for (int i = 0; i < 5; i++) {\n",
        "        numeros[i] = i + 1;\n",
        "    }\n",
        "\n",
        "    // Acceso y modificación de elementos del arreglo\n",
        "    numeros[2] = 10;  // Modifica el tercer elemento del arreglo\n",
        "\n",
        "    // Imprimir los elementos del arreglo\n",
        "    printf(\"Arreglo unidimensional:\\n\");\n",
        "    for (int i = 0; i < 5; i++) {\n",
        "        printf(\"Elemento %d: %d\\n\", i, numeros[i]);\n",
        "    }\n",
        "    printf(\"\\n\");\n",
        "\n",
        "    // Creación y manipulación de un arreglo bidimensional\n",
        "    int matriz[3][3] = {\n",
        "        {1, 2, 3},\n",
        "        {4, 5, 6},\n",
        "        {7, 8, 9}\n",
        "    };  // Declaración de un arreglo bidimensional de 3x3 enteros\n",
        "\n",
        "    // Acceso y modificación de elementos del arreglo bidimensional\n",
        "    matriz[1][1] = 0;  // Modifica el elemento en la segunda fila y segunda columna\n",
        "\n",
        "    // Imprimir los elementos del arreglo bidimensional\n",
        "    printf(\"Arreglo bidimensional:\\n\");\n",
        "    for (int i = 0; i < 3; i++) {\n",
        "        for (int j = 0; j < 3; j++) {\n",
        "            printf(\"%d \", matriz[i][j]);\n",
        "        }\n",
        "        printf(\"\\n\");\n",
        "    }\n",
        "    printf(\"\\n\");\n",
        "\n",
        "\n",
        "\n",
        "    // Llamada a la función para imprimir el arreglo unidimensional\n",
        "    imprimir_arreglo(numeros, 5);\n",
        "\n",
        "    return 0;\n",
        "}"
      ],
      "metadata": {
        "colab": {
          "base_uri": "https://localhost:8080/"
        },
        "id": "VePYPOXpqwI5",
        "outputId": "6624879f-6053-49da-c811-f72969b21f3f"
      },
      "execution_count": 30,
      "outputs": [
        {
          "output_type": "stream",
          "name": "stdout",
          "text": [
            "Overwriting 9.cpp\n"
          ]
        }
      ]
    },
    {
      "cell_type": "code",
      "source": [
        "! gcc 9.cpp -o Sesion9.out"
      ],
      "metadata": {
        "id": "UJ9Ks_Odq5Tj"
      },
      "execution_count": 31,
      "outputs": []
    },
    {
      "cell_type": "code",
      "source": [
        "! ./Sesion9.out"
      ],
      "metadata": {
        "colab": {
          "base_uri": "https://localhost:8080/"
        },
        "id": "BOaatTbSwN4z",
        "outputId": "66601fb9-2eb3-42d0-bd25-2d2d1751976b"
      },
      "execution_count": 32,
      "outputs": [
        {
          "output_type": "stream",
          "name": "stdout",
          "text": [
            "Arreglo unidimensional:\n",
            "Elemento 0: 1\n",
            "Elemento 1: 2\n",
            "Elemento 2: 10\n",
            "Elemento 3: 4\n",
            "Elemento 4: 5\n",
            "\n",
            "Arreglo bidimensional:\n",
            "1 2 3 \n",
            "4 0 6 \n",
            "7 8 9 \n",
            "\n",
            "Arreglo pasado como parámetro:\n",
            "Elemento 0: 1\n",
            "Elemento 1: 2\n",
            "Elemento 2: 10\n",
            "Elemento 3: 4\n",
            "Elemento 4: 5\n"
          ]
        }
      ]
    }
  ]
}